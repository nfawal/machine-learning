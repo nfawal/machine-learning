{
 "cells": [
  {
   "cell_type": "markdown",
   "metadata": {},
   "source": [
    "### ML CHALLENGE 3 HACKEREARTH\n",
    "#### Predict add Clicks\n",
    "\n"
   ]
  },
  {
   "cell_type": "code",
   "execution_count": 15,
   "metadata": {
    "collapsed": true
   },
   "outputs": [],
   "source": [
    "#load libraries\n",
    "import numpy as np\n",
    "import pandas as pd\n",
    "import matplotlib.pyplot as plt\n",
    "import seaborn as sns\n",
    "\n",
    "%matplotlib inline"
   ]
  },
  {
   "cell_type": "code",
   "execution_count": 4,
   "metadata": {
    "collapsed": true
   },
   "outputs": [],
   "source": [
    "#import datasets\n",
    "training_df = pd.read_csv('D:/python/ML-challenge3/train.csv')\n",
    "test_df = pd.read_csv('D:/python/ML-challenge3/test.csv')"
   ]
  },
  {
   "cell_type": "code",
   "execution_count": 29,
   "metadata": {},
   "outputs": [
    {
     "data": {
      "text/html": [
       "<div>\n",
       "<style>\n",
       "    .dataframe thead tr:only-child th {\n",
       "        text-align: right;\n",
       "    }\n",
       "\n",
       "    .dataframe thead th {\n",
       "        text-align: left;\n",
       "    }\n",
       "\n",
       "    .dataframe tbody tr th {\n",
       "        vertical-align: top;\n",
       "    }\n",
       "</style>\n",
       "<table border=\"1\" class=\"dataframe\">\n",
       "  <thead>\n",
       "    <tr style=\"text-align: right;\">\n",
       "      <th></th>\n",
       "      <th>ID</th>\n",
       "      <th>datetime</th>\n",
       "      <th>siteid</th>\n",
       "      <th>offerid</th>\n",
       "      <th>category</th>\n",
       "      <th>merchant</th>\n",
       "      <th>countrycode</th>\n",
       "      <th>browserid</th>\n",
       "      <th>devid</th>\n",
       "      <th>click</th>\n",
       "      <th>tweekday</th>\n",
       "      <th>thour</th>\n",
       "    </tr>\n",
       "  </thead>\n",
       "  <tbody>\n",
       "    <tr>\n",
       "      <th>0</th>\n",
       "      <td>IDsrk7SoW</td>\n",
       "      <td>2017-01-14 09:42:09</td>\n",
       "      <td>4709696.0</td>\n",
       "      <td>887235</td>\n",
       "      <td>17714</td>\n",
       "      <td>20301556</td>\n",
       "      <td>e</td>\n",
       "      <td>Firefox</td>\n",
       "      <td>-999</td>\n",
       "      <td>0</td>\n",
       "      <td>5</td>\n",
       "      <td>9</td>\n",
       "    </tr>\n",
       "    <tr>\n",
       "      <th>1</th>\n",
       "      <td>IDmMSxHur</td>\n",
       "      <td>2017-01-18 17:50:53</td>\n",
       "      <td>5189467.0</td>\n",
       "      <td>178235</td>\n",
       "      <td>21407</td>\n",
       "      <td>9434818</td>\n",
       "      <td>b</td>\n",
       "      <td>Mozilla Firefox</td>\n",
       "      <td>Desktop</td>\n",
       "      <td>0</td>\n",
       "      <td>2</td>\n",
       "      <td>17</td>\n",
       "    </tr>\n",
       "    <tr>\n",
       "      <th>2</th>\n",
       "      <td>IDVLNN0Ut</td>\n",
       "      <td>2017-01-11 12:46:49</td>\n",
       "      <td>98480.0</td>\n",
       "      <td>518539</td>\n",
       "      <td>25085</td>\n",
       "      <td>2050923</td>\n",
       "      <td>a</td>\n",
       "      <td>Edge</td>\n",
       "      <td>-999</td>\n",
       "      <td>0</td>\n",
       "      <td>2</td>\n",
       "      <td>12</td>\n",
       "    </tr>\n",
       "    <tr>\n",
       "      <th>3</th>\n",
       "      <td>ID32T6wwQ</td>\n",
       "      <td>2017-01-17 10:18:43</td>\n",
       "      <td>8896401.0</td>\n",
       "      <td>390352</td>\n",
       "      <td>40339</td>\n",
       "      <td>72089744</td>\n",
       "      <td>c</td>\n",
       "      <td>Firefox</td>\n",
       "      <td>Mobile</td>\n",
       "      <td>0</td>\n",
       "      <td>1</td>\n",
       "      <td>10</td>\n",
       "    </tr>\n",
       "    <tr>\n",
       "      <th>4</th>\n",
       "      <td>IDqUShzMg</td>\n",
       "      <td>2017-01-14 16:02:33</td>\n",
       "      <td>5635120.0</td>\n",
       "      <td>472937</td>\n",
       "      <td>12052</td>\n",
       "      <td>39507200</td>\n",
       "      <td>d</td>\n",
       "      <td>Mozilla Firefox</td>\n",
       "      <td>Desktop</td>\n",
       "      <td>0</td>\n",
       "      <td>5</td>\n",
       "      <td>16</td>\n",
       "    </tr>\n",
       "  </tbody>\n",
       "</table>\n",
       "</div>"
      ],
      "text/plain": [
       "          ID            datetime     siteid  offerid  category  merchant  \\\n",
       "0  IDsrk7SoW 2017-01-14 09:42:09  4709696.0   887235     17714  20301556   \n",
       "1  IDmMSxHur 2017-01-18 17:50:53  5189467.0   178235     21407   9434818   \n",
       "2  IDVLNN0Ut 2017-01-11 12:46:49    98480.0   518539     25085   2050923   \n",
       "3  ID32T6wwQ 2017-01-17 10:18:43  8896401.0   390352     40339  72089744   \n",
       "4  IDqUShzMg 2017-01-14 16:02:33  5635120.0   472937     12052  39507200   \n",
       "\n",
       "  countrycode        browserid    devid  click  tweekday  thour  \n",
       "0           e          Firefox     -999      0         5      9  \n",
       "1           b  Mozilla Firefox  Desktop      0         2     17  \n",
       "2           a             Edge     -999      0         2     12  \n",
       "3           c          Firefox   Mobile      0         1     10  \n",
       "4           d  Mozilla Firefox  Desktop      0         5     16  "
      ]
     },
     "execution_count": 29,
     "metadata": {},
     "output_type": "execute_result"
    }
   ],
   "source": [
    "training_df.head()"
   ]
  },
  {
   "cell_type": "code",
   "execution_count": 10,
   "metadata": {},
   "outputs": [
    {
     "data": {
      "text/plain": [
       "(12137810, 10)"
      ]
     },
     "execution_count": 10,
     "metadata": {},
     "output_type": "execute_result"
    }
   ],
   "source": [
    "training_df.shape"
   ]
  },
  {
   "cell_type": "code",
   "execution_count": 8,
   "metadata": {},
   "outputs": [
    {
     "data": {
      "text/plain": [
       "ID                   0\n",
       "datetime             0\n",
       "siteid         1212515\n",
       "offerid              0\n",
       "category             0\n",
       "merchant             0\n",
       "countrycode          0\n",
       "browserid       608327\n",
       "devid          1820299\n",
       "click                0\n",
       "dtype: int64"
      ]
     },
     "execution_count": 8,
     "metadata": {},
     "output_type": "execute_result"
    }
   ],
   "source": [
    "training_df.isnull().sum()"
   ]
  },
  {
   "cell_type": "code",
   "execution_count": 13,
   "metadata": {
    "collapsed": true
   },
   "outputs": [],
   "source": [
    "#replace NA values with -999\n",
    "training_df.siteid.fillna(-999,inplace=True)\n",
    "training_df.browserid.fillna(-999,inplace=True)\n",
    "training_df.devid.fillna(-999,inplace=True)\n",
    "\n",
    "test_df.siteid.fillna(-999,inplace=True)\n",
    "test_df.browserid.fillna(-999,inplace=True)\n",
    "test_df.devid.fillna(-999,inplace=True)"
   ]
  },
  {
   "cell_type": "code",
   "execution_count": 14,
   "metadata": {},
   "outputs": [
    {
     "data": {
      "text/plain": [
       "ID             0\n",
       "datetime       0\n",
       "siteid         0\n",
       "offerid        0\n",
       "category       0\n",
       "merchant       0\n",
       "countrycode    0\n",
       "browserid      0\n",
       "devid          0\n",
       "click          0\n",
       "dtype: int64"
      ]
     },
     "execution_count": 14,
     "metadata": {},
     "output_type": "execute_result"
    }
   ],
   "source": [
    "training_df.isnull().sum()"
   ]
  },
  {
   "cell_type": "code",
   "execution_count": 19,
   "metadata": {},
   "outputs": [],
   "source": [
    "#datetime handeling\n",
    "\n",
    "#set datetime\n",
    "training_df['datetime'] = pd.to_datetime(training_df['datetime'])\n",
    "test_df['datetime'] = pd.to_datetime(test_df['datetime'])\n"
   ]
  },
  {
   "cell_type": "code",
   "execution_count": 37,
   "metadata": {},
   "outputs": [],
   "source": [
    "#training_df['tweekday'] = training_df['datetime'].dt.weekday\n",
    "training_df['thour'] = training_df['datetime'].dt.hour\n",
    "\n",
    "#test_df['tweekday'] = test_df['datetime'].dt.weekday\n",
    "test_df['thour'] = test_df['datetime'].dt.hour"
   ]
  },
  {
   "cell_type": "code",
   "execution_count": 32,
   "metadata": {},
   "outputs": [],
   "source": [
    "#replace days 1,2,3,4 with weekday, and 5,6,7 with weekend\n",
    "weekdays = [0,1,2,3]\n",
    "weekend = [4,5,6]\n",
    "\n",
    "training_df.loc[training_df.tweekday.isin(weekdays), 'tweekday'] = 'weekday'\n",
    "training_df.loc[training_df.tweekday.isin(weekend),'tweekday'] = 'weekend'"
   ]
  },
  {
   "cell_type": "code",
   "execution_count": 34,
   "metadata": {},
   "outputs": [],
   "source": [
    "test_df.loc[test_df.tweekeday.isin(weekdays), 'tweekday'] = 'weekday'\n",
    "test_df.loc[test_df.tweekeday.isin(weekdays),'tweekday'] = 'weekday'"
   ]
  },
  {
   "cell_type": "code",
   "execution_count": 42,
   "metadata": {},
   "outputs": [],
   "source": [
    "#same thing with hours\n",
    "day = [8,9,10,11,12]\n",
    "afternoon=[13,14,15,16,17,18]\n",
    "evening = [19,20,21,22,23,24]\n",
    "night=[1,2,3,4,5,6,7]\n",
    "\n",
    "training_df.loc[training_df.thour.isin(day),'thour'] = 'day'\n",
    "training_df.loc[training_df.thour.isin(afternoon),'thour'] ='afternoon'\n",
    "training_df.loc[training_df.thour.isin(evening),'thour'] ='evening'\n",
    "training_df.loc[training_df.thour.isin(night),'thour'] ='night'"
   ]
  },
  {
   "cell_type": "code",
   "execution_count": 39,
   "metadata": {},
   "outputs": [],
   "source": [
    "test_df.loc[test_df.thour.isin(day),'thour'] = 'day'\n",
    "test_df.loc[test_df.thour.isin(afternoon),'thour'] = 'afternoon'\n",
    "test_df.loc[test_df.thour.isin(evening),'thour'] = 'evening'\n",
    "test_df.loc[test_df.thour.isin(night),'thour'] = 'night'"
   ]
  },
  {
   "cell_type": "code",
   "execution_count": 49,
   "metadata": {},
   "outputs": [],
   "source": [
    "#training_df.drop('datetime', axis=1, inplace=True)\n",
    "training_df.dtypes\n",
    "cols = ['offerid', 'category', 'merchant', 'siteid']\n",
    "\n",
    "for i in cols:\n",
    "    training_df[i] = training_df[i].astype('object')\n",
    "    test_df[i] = test_df[i].astype('object')\n",
    "    "
   ]
  },
  {
   "cell_type": "code",
   "execution_count": 77,
   "metadata": {},
   "outputs": [],
   "source": [
    "categoricals = cols + ['countrycode', 'devid', 'browserid', 'thour', 'tweekday']\n",
    "#replace values with labelencoder\n",
    "from sklearn.preprocessing import LabelEncoder\n",
    "\n",
    "for x in categoricals:\n",
    "    le = LabelEncoder()\n",
    "    le.fit(list(training_df[x].values) + list(test_df[x].values))\n",
    "    training_df[x] = le.transform(list(training_df[x].values))\n",
    "    test_df[x] = le.transform(list(test_df[x].values))"
   ]
  },
  {
   "cell_type": "code",
   "execution_count": 61,
   "metadata": {},
   "outputs": [
    {
     "data": {
      "text/html": [
       "<div>\n",
       "<style>\n",
       "    .dataframe thead tr:only-child th {\n",
       "        text-align: right;\n",
       "    }\n",
       "\n",
       "    .dataframe thead th {\n",
       "        text-align: left;\n",
       "    }\n",
       "\n",
       "    .dataframe tbody tr th {\n",
       "        vertical-align: top;\n",
       "    }\n",
       "</style>\n",
       "<table border=\"1\" class=\"dataframe\">\n",
       "  <thead>\n",
       "    <tr style=\"text-align: right;\">\n",
       "      <th></th>\n",
       "      <th>siteid</th>\n",
       "      <th>offerid</th>\n",
       "      <th>category</th>\n",
       "      <th>merchant</th>\n",
       "      <th>countrycode</th>\n",
       "      <th>browserid</th>\n",
       "      <th>devid</th>\n",
       "      <th>click</th>\n",
       "      <th>tweekday</th>\n",
       "      <th>thour</th>\n",
       "    </tr>\n",
       "  </thead>\n",
       "  <tbody>\n",
       "    <tr>\n",
       "      <th>0</th>\n",
       "      <td>128865</td>\n",
       "      <td>784773</td>\n",
       "      <td>48</td>\n",
       "      <td>127</td>\n",
       "      <td>4</td>\n",
       "      <td>3</td>\n",
       "      <td>0</td>\n",
       "      <td>0</td>\n",
       "      <td>weekend</td>\n",
       "      <td>day</td>\n",
       "    </tr>\n",
       "    <tr>\n",
       "      <th>1</th>\n",
       "      <td>142053</td>\n",
       "      <td>157563</td>\n",
       "      <td>59</td>\n",
       "      <td>65</td>\n",
       "      <td>1</td>\n",
       "      <td>9</td>\n",
       "      <td>1</td>\n",
       "      <td>0</td>\n",
       "      <td>weekday</td>\n",
       "      <td>afternoon</td>\n",
       "    </tr>\n",
       "    <tr>\n",
       "      <th>2</th>\n",
       "      <td>2618</td>\n",
       "      <td>458279</td>\n",
       "      <td>69</td>\n",
       "      <td>15</td>\n",
       "      <td>0</td>\n",
       "      <td>2</td>\n",
       "      <td>0</td>\n",
       "      <td>0</td>\n",
       "      <td>weekday</td>\n",
       "      <td>day</td>\n",
       "    </tr>\n",
       "    <tr>\n",
       "      <th>3</th>\n",
       "      <td>243406</td>\n",
       "      <td>345067</td>\n",
       "      <td>117</td>\n",
       "      <td>507</td>\n",
       "      <td>2</td>\n",
       "      <td>3</td>\n",
       "      <td>2</td>\n",
       "      <td>0</td>\n",
       "      <td>weekday</td>\n",
       "      <td>day</td>\n",
       "    </tr>\n",
       "    <tr>\n",
       "      <th>4</th>\n",
       "      <td>154278</td>\n",
       "      <td>417948</td>\n",
       "      <td>36</td>\n",
       "      <td>276</td>\n",
       "      <td>3</td>\n",
       "      <td>9</td>\n",
       "      <td>1</td>\n",
       "      <td>0</td>\n",
       "      <td>weekend</td>\n",
       "      <td>afternoon</td>\n",
       "    </tr>\n",
       "  </tbody>\n",
       "</table>\n",
       "</div>"
      ],
      "text/plain": [
       "   siteid  offerid  category  merchant  countrycode  browserid  devid  click  \\\n",
       "0  128865   784773        48       127            4          3      0      0   \n",
       "1  142053   157563        59        65            1          9      1      0   \n",
       "2    2618   458279        69        15            0          2      0      0   \n",
       "3  243406   345067       117       507            2          3      2      0   \n",
       "4  154278   417948        36       276            3          9      1      0   \n",
       "\n",
       "  tweekday      thour  \n",
       "0  weekend        day  \n",
       "1  weekday  afternoon  \n",
       "2  weekday        day  \n",
       "3  weekday        day  \n",
       "4  weekend  afternoon  "
      ]
     },
     "execution_count": 61,
     "metadata": {},
     "output_type": "execute_result"
    }
   ],
   "source": [
    "training_df.head()"
   ]
  },
  {
   "cell_type": "markdown",
   "metadata": {},
   "source": [
    "### Model training"
   ]
  },
  {
   "cell_type": "code",
   "execution_count": 78,
   "metadata": {},
   "outputs": [],
   "source": [
    "# remove cols that we don't need \n",
    "#training_df.drop('ID', axis=1, inplace=True)\n",
    "#test_df.drop('ID', axis=1, inplace=True)\n",
    "\n",
    "from  sklearn.model_selection import train_test_split\n",
    "\n",
    "X_train, X_test, Y_train, Y_test = train_test_split(training_df.loc[:,training_df.columns != 'click'], training_df['click'], test_size = 0.5)"
   ]
  },
  {
   "cell_type": "code",
   "execution_count": 72,
   "metadata": {},
   "outputs": [],
   "source": [
    "import lightgbm as lgb"
   ]
  },
  {
   "cell_type": "code",
   "execution_count": 79,
   "metadata": {},
   "outputs": [
    {
     "data": {
      "text/html": [
       "<div>\n",
       "<style>\n",
       "    .dataframe thead tr:only-child th {\n",
       "        text-align: right;\n",
       "    }\n",
       "\n",
       "    .dataframe thead th {\n",
       "        text-align: left;\n",
       "    }\n",
       "\n",
       "    .dataframe tbody tr th {\n",
       "        vertical-align: top;\n",
       "    }\n",
       "</style>\n",
       "<table border=\"1\" class=\"dataframe\">\n",
       "  <thead>\n",
       "    <tr style=\"text-align: right;\">\n",
       "      <th></th>\n",
       "      <th>siteid</th>\n",
       "      <th>offerid</th>\n",
       "      <th>category</th>\n",
       "      <th>merchant</th>\n",
       "      <th>countrycode</th>\n",
       "      <th>browserid</th>\n",
       "      <th>devid</th>\n",
       "      <th>tweekday</th>\n",
       "      <th>thour</th>\n",
       "    </tr>\n",
       "  </thead>\n",
       "  <tbody>\n",
       "    <tr>\n",
       "      <th>344246</th>\n",
       "      <td>49403</td>\n",
       "      <td>756024</td>\n",
       "      <td>117</td>\n",
       "      <td>255</td>\n",
       "      <td>5</td>\n",
       "      <td>4</td>\n",
       "      <td>2</td>\n",
       "      <td>1</td>\n",
       "      <td>1</td>\n",
       "    </tr>\n",
       "    <tr>\n",
       "      <th>3840512</th>\n",
       "      <td>235511</td>\n",
       "      <td>839615</td>\n",
       "      <td>34</td>\n",
       "      <td>522</td>\n",
       "      <td>1</td>\n",
       "      <td>8</td>\n",
       "      <td>1</td>\n",
       "      <td>2</td>\n",
       "      <td>1</td>\n",
       "    </tr>\n",
       "    <tr>\n",
       "      <th>8500062</th>\n",
       "      <td>0</td>\n",
       "      <td>624953</td>\n",
       "      <td>130</td>\n",
       "      <td>633</td>\n",
       "      <td>4</td>\n",
       "      <td>1</td>\n",
       "      <td>1</td>\n",
       "      <td>1</td>\n",
       "      <td>4</td>\n",
       "    </tr>\n",
       "    <tr>\n",
       "      <th>8504405</th>\n",
       "      <td>183731</td>\n",
       "      <td>391954</td>\n",
       "      <td>231</td>\n",
       "      <td>477</td>\n",
       "      <td>2</td>\n",
       "      <td>2</td>\n",
       "      <td>3</td>\n",
       "      <td>2</td>\n",
       "      <td>1</td>\n",
       "    </tr>\n",
       "    <tr>\n",
       "      <th>8712057</th>\n",
       "      <td>256489</td>\n",
       "      <td>670418</td>\n",
       "      <td>238</td>\n",
       "      <td>351</td>\n",
       "      <td>4</td>\n",
       "      <td>3</td>\n",
       "      <td>2</td>\n",
       "      <td>2</td>\n",
       "      <td>1</td>\n",
       "    </tr>\n",
       "  </tbody>\n",
       "</table>\n",
       "</div>"
      ],
      "text/plain": [
       "         siteid  offerid  category  merchant  countrycode  browserid  devid  \\\n",
       "344246    49403   756024       117       255            5          4      2   \n",
       "3840512  235511   839615        34       522            1          8      1   \n",
       "8500062       0   624953       130       633            4          1      1   \n",
       "8504405  183731   391954       231       477            2          2      3   \n",
       "8712057  256489   670418       238       351            4          3      2   \n",
       "\n",
       "         tweekday  thour  \n",
       "344246          1      1  \n",
       "3840512         2      1  \n",
       "8500062         1      4  \n",
       "8504405         2      1  \n",
       "8712057         2      1  "
      ]
     },
     "execution_count": 79,
     "metadata": {},
     "output_type": "execute_result"
    }
   ],
   "source": [
    "X_train.head()"
   ]
  },
  {
   "cell_type": "code",
   "execution_count": 92,
   "metadata": {},
   "outputs": [],
   "source": [
    "#test_df.drop('datetime',inplace = True, axis=1)\n",
    "#test_df.drop('tweekday',inplace = True, axis=1)\n",
    "test_df.columns=['siteid','offerid','category','merchant','coutrycode','browserid','devid','tweekday','thour']"
   ]
  },
  {
   "cell_type": "code",
   "execution_count": 82,
   "metadata": {},
   "outputs": [
    {
     "name": "stdout",
     "output_type": "stream",
     "text": [
      "[20]\tvalid_0's auc: 0.96929\n",
      "[40]\tvalid_0's auc: 0.969692\n",
      "[60]\tvalid_0's auc: 0.969854\n",
      "[80]\tvalid_0's auc: 0.96997\n",
      "[100]\tvalid_0's auc: 0.969907\n",
      "[120]\tvalid_0's auc: 0.970331\n",
      "[140]\tvalid_0's auc: 0.970593\n",
      "[160]\tvalid_0's auc: 0.970793\n",
      "[180]\tvalid_0's auc: 0.971068\n",
      "[200]\tvalid_0's auc: 0.971378\n",
      "[220]\tvalid_0's auc: 0.971565\n",
      "[240]\tvalid_0's auc: 0.971713\n",
      "[260]\tvalid_0's auc: 0.971902\n",
      "[280]\tvalid_0's auc: 0.972116\n",
      "[300]\tvalid_0's auc: 0.9722\n",
      "[320]\tvalid_0's auc: 0.972305\n",
      "[340]\tvalid_0's auc: 0.972385\n",
      "[360]\tvalid_0's auc: 0.972487\n",
      "[380]\tvalid_0's auc: 0.97264\n",
      "[400]\tvalid_0's auc: 0.972783\n",
      "[420]\tvalid_0's auc: 0.972886\n",
      "[440]\tvalid_0's auc: 0.97303\n",
      "[460]\tvalid_0's auc: 0.973259\n",
      "[480]\tvalid_0's auc: 0.973441\n",
      "[500]\tvalid_0's auc: 0.973613\n"
     ]
    }
   ],
   "source": [
    "dtrain = lgb.Dataset(X_train, Y_train)\n",
    "dval = lgb.Dataset(X_test, Y_test)\n",
    "\n",
    "params = {\n",
    "    \n",
    "    'num_leaves' : 256,\n",
    "    'learning_rate':0.03,\n",
    "    'metric':'auc',\n",
    "    'objective':'binary',\n",
    "    'early_stopping_round': 40,\n",
    "    'max_depth':10,\n",
    "    'bagging_fraction':0.5,\n",
    "    'feature_fraction':0.6,\n",
    "    'bagging_seed':2017,\n",
    "    'feature_fraction_seed':2017,\n",
    "    'verbose' : 1\n",
    "    \n",
    "    \n",
    "}\n",
    "\n",
    "clf = lgb.train(params, dtrain,num_boost_round=500,valid_sets=dval,verbose_eval=20)"
   ]
  },
  {
   "cell_type": "code",
   "execution_count": 93,
   "metadata": {
    "scrolled": true
   },
   "outputs": [],
   "source": [
    "preds = clf.predict(test_df.loc[:,test_df.columns != 'click'])"
   ]
  },
  {
   "cell_type": "code",
   "execution_count": 97,
   "metadata": {},
   "outputs": [],
   "source": [
    "test_df_full = pd.read_csv('D:/python/ML-challenge3/test.csv')\n",
    "sub = pd.DataFrame({'ID':test_df_full['ID'], 'click':preds})\n",
    "sub.to_csv('lgb_pyst.csv', index=False)"
   ]
  },
  {
   "cell_type": "code",
   "execution_count": null,
   "metadata": {
    "collapsed": true
   },
   "outputs": [],
   "source": []
  }
 ],
 "metadata": {
  "kernelspec": {
   "display_name": "Python 2",
   "language": "python",
   "name": "python2"
  },
  "language_info": {
   "codemirror_mode": {
    "name": "ipython",
    "version": 2
   },
   "file_extension": ".py",
   "mimetype": "text/x-python",
   "name": "python",
   "nbconvert_exporter": "python",
   "pygments_lexer": "ipython2",
   "version": "2.7.13"
  }
 },
 "nbformat": 4,
 "nbformat_minor": 2
}
